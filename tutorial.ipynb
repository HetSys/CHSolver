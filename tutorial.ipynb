{
 "cells": [
  {
   "cell_type": "markdown",
   "metadata": {},
   "source": [
    "# CHSolver User Tutorial\n",
    "\n",
    "## Requirements\n",
    "We assume the following software will be already available prior to installation:\n",
    "- GCC/10.2.0\n",
    "- CMake/3.20.1\n",
    "- OpenMPI/4.0.5\n",
    "- HDF5/1.10.7\n",
    "- Python/3.8.6\n",
    "- FFTW/3.3.8\n",
    "\n",
    "## Installation\n",
    "The repository can be git cloned via the command  $\\texttt{ git clone --recursive git@github.com:HetSys/CHSolver.git}$\n",
    "\n",
    "The code requires some external dependancies, which are linked to the repository through the use of git submodules. The bash script $\\texttt{build\\_deps}$ is provided in order to build and install these locally, within the repository.\n",
    "\n",
    "Make is used as the main driver for the executable compilation and support. Supported commands are as follows:\n",
    "- make: Compile and link the chsolver executable\n",
    "- make clean: Clean the executables, .o and .mod files\n",
    "- make logpurge: Clean all .log files from the ./logs dir\n",
    "- make docs: Generate developer documentation (requires a doxygen executable on path, tested with Doxygen/1.8.17)\n",
    "- make tests: Compile and link a unit tests executable (requires pFUnit to have been installed within the repository)\n",
    "\n",
    "## Handling JSON input data\n",
    "JSON files are used by both the Python API and the $\\texttt{chsolver}$ executable in order to more easily handle input parameters to the executable. Though it is possible to use the the executable without requiring a JSON file, it is strongly recommended.\n",
    "\n",
    "The JSON datastructure operates via nesting of key : value pairs. At the root level, the JSON file is subdivided into \"runs\", where each run contains the full set of parameters required for proper execution of the program. A simple example file is shown below.\n",
    "\n",
    "```\n",
    "{\n",
    "  \"default\": {\n",
    "    \"L\": 1.0,\n",
    "    \"A\": 1.0,\n",
    "    \"M\": 0.25,\n",
    "    \"K\": 0.0004,\n",
    "    \"p0\": -1.0,\n",
    "    \"p1\": 1.0,\n",
    "    \"grid_level\": 7,\n",
    "    \"grid_type\": \"r\",\n",
    "    \"T\": [\n",
    "      0.0,\n",
    "      0.05,\n",
    "      0.1\n",
    "    ]\n",
    "  }\n",
    "}\n",
    "```\n",
    "\n",
    "The run, called \"default\" contains a nested set of parameters (\"L\", \"A\", \"M\", ...) which would all be searched by name during execution of the program. To add alternative runs directly to the file, it is recommended to first copy and paste the default run, rename it, and thn modify the values associated with the parameters.\n",
    "\n",
    "### Handling the JSON file from Python\n",
    "The CHData class (from src/dataclass.py) provides an interface to generate and modify JSON files interactively.\n",
    "A worked example of generating and adding a new run to a json file from the Python API is shown below. "
   ]
  },
  {
   "cell_type": "code",
   "execution_count": 2,
   "metadata": {},
   "outputs": [],
   "source": [
    "# PYTHON IMPORTS\n",
    "import numpy as np\n",
    "import os\n",
    "from src.dataclass import CHData"
   ]
  },
  {
   "cell_type": "code",
   "execution_count": 38,
   "metadata": {},
   "outputs": [
    {
     "name": "stdout",
     "output_type": "stream",
     "text": [
      "L = 1.0\n",
      "A = 1.0\n",
      "M = 0.25\n",
      "K = 0.0004\n",
      "p0 = -1.0\n",
      "p1 = 1.0\n",
      "Grid type = r\n",
      "Grid level = 7\n",
      "Output Times = [0.   0.05 0.1 ]\n"
     ]
    }
   ],
   "source": [
    "\n",
    "# Generating an instance of CHData will create or open the file given by the fname init arg.\n",
    "# If the file did not already exist, the default run will be saved to file\n",
    "dat = CHData(fname=\"tutorial-data.json\")\n",
    "\n",
    "# Print the input data currently loaded\n",
    "# By default, this will be the data contained in the \"default\" run in the\n",
    "dat.print_rundata()"
   ]
  },
  {
   "cell_type": "code",
   "execution_count": 39,
   "metadata": {},
   "outputs": [
    {
     "name": "stdout",
     "output_type": "stream",
     "text": [
      "L = 2.0\n",
      "A = 1.0\n",
      "M = 0.25\n",
      "K = 0.0004\n",
      "p0 = -3.0\n",
      "p1 = 1.0\n",
      "Grid type = c\n",
      "Grid level = 4\n",
      "Output Times = [0.   0.05 0.1  0.15 0.2 ]\n"
     ]
    }
   ],
   "source": [
    "# Modify the input data stored in the CHData object\n",
    "dat.L = 2.0\n",
    "\n",
    "dat.p0 = -3.0\n",
    "\n",
    "dat.grid_level = 4\n",
    "\n",
    "dat.T = np.linspace(0, 0.2, 5)\n",
    "\n",
    "dat.grid_type = \"c\"\n",
    "\n",
    "# Print out the modifications made to the input data\n",
    "dat.print_rundata()"
   ]
  },
  {
   "cell_type": "code",
   "execution_count": 40,
   "metadata": {},
   "outputs": [],
   "source": [
    "# Save the input data back down to the file\n",
    "dat.save_rundata(run_name=\"modified\")"
   ]
  },
  {
   "cell_type": "markdown",
   "metadata": {},
   "source": [
    "Opening the \"tutorial-data.json\" file, it should now look like this:\n",
    "```\n",
    "{\n",
    "  \"default\": {\n",
    "    \"L\": 1.0,\n",
    "    \"A\": 1.0,\n",
    "    \"M\": 0.25,\n",
    "    \"K\": 0.0004,\n",
    "    \"p0\": -1.0,\n",
    "    \"p1\": 1.0,\n",
    "    \"grid_level\": 7,\n",
    "    \"grid_type\": \"r\",\n",
    "    \"T\": [\n",
    "      0.0,\n",
    "      0.05,\n",
    "      0.1\n",
    "    ]\n",
    "  },\n",
    "  \"modified\": {\n",
    "    \"L\": 2.0,\n",
    "    \"A\": 1.0,\n",
    "    \"M\": 0.25,\n",
    "    \"K\": 0.0004,\n",
    "    \"p0\": -3.0,\n",
    "    \"p1\": 1.0,\n",
    "    \"grid_level\": 4,\n",
    "    \"grid_type\": \"c\",\n",
    "    \"T\": [\n",
    "      0.0,\n",
    "      0.05,\n",
    "      0.1,\n",
    "      0.15000000000000002,\n",
    "      0.2\n",
    "    ]\n",
    "  }\n",
    "}\n",
    "```\n",
    "\n",
    "Now we have a file containing multiple runs, we can look into quickly swapping between them."
   ]
  },
  {
   "cell_type": "code",
   "execution_count": 41,
   "metadata": {},
   "outputs": [
    {
     "name": "stdout",
     "output_type": "stream",
     "text": [
      "['default', 'modified']\n"
     ]
    }
   ],
   "source": [
    "# Create a new object, opening the same file\n",
    "dat2 = CHData(fname=\"tutorial-data.json\")\n",
    "\n",
    "# Print the run names found in the file\n",
    "print(dat2.run_names)"
   ]
  },
  {
   "cell_type": "code",
   "execution_count": 42,
   "metadata": {},
   "outputs": [
    {
     "name": "stdout",
     "output_type": "stream",
     "text": [
      "L = 1.0\n",
      "A = 1.0\n",
      "M = 0.25\n",
      "K = 0.0004\n",
      "p0 = -1.0\n",
      "p1 = 1.0\n",
      "Grid type = r\n",
      "Grid level = 7\n",
      "Output Times = [0.   0.05 0.1 ]\n"
     ]
    }
   ],
   "source": [
    "# Print the currently loaded run data\n",
    "dat2.print_rundata()"
   ]
  },
  {
   "cell_type": "code",
   "execution_count": 43,
   "metadata": {},
   "outputs": [
    {
     "name": "stdout",
     "output_type": "stream",
     "text": [
      "L = 2.0\n",
      "A = 1.0\n",
      "M = 0.25\n",
      "K = 0.0004\n",
      "p0 = -3.0\n",
      "p1 = 1.0\n",
      "Grid type = c\n",
      "Grid level = 4\n",
      "Output Times = [0.0, 0.05, 0.1, 0.15000000000000002, 0.2]\n"
     ]
    }
   ],
   "source": [
    "# Read the data contained in the \"modified\" datastructure\n",
    "dat2.read_rundata(\"modified\")\n",
    "\n",
    "# Verify the new data has been loaded\n",
    "dat2.print_rundata()"
   ]
  },
  {
   "cell_type": "markdown",
   "metadata": {},
   "source": [
    "## Using the $\\texttt{chsolver}$ executable\n",
    "\n",
    "The $\\texttt{chsolver}$ can be built via the Makefile, using the command $\\texttt{make}$. The executable comes with a fully featured Command Line Interface in order to allow the program to be flexible to a variety of tasks.\n",
    "\n",
    "To demonstrate the program for this tutorial, we run shell commands via the python os.system() function."
   ]
  },
  {
   "cell_type": "code",
   "execution_count": 44,
   "metadata": {},
   "outputs": [
    {
     "name": "stdout",
     "output_type": "stream",
     "text": [
      "rm -f -r -d chsolver  ./obj/*.o ./src/*.mod ./out/** ./doxygen/output/* test_all\n",
      "make -C tests/unit_tests clean\n",
      "make[1]: Entering directory '/home/u2180064/Documents/GitHub/CHSolver/tests/unit_tests'\n",
      "rm -f *.o *.mod *.a  *.inc *.F90\n",
      "make[1]: Leaving directory '/home/u2180064/Documents/GitHub/CHSolver/tests/unit_tests'\n",
      "mkdir -p ./obj ./out ./logs\n",
      "\u001b[1m\u001b[36mBuilding obj/face.o\u001b[m\n",
      "h5fc  -std=f2008 -c -o obj/face.o src/submodules/FACE/src/lib/face.F90 \n",
      "\u001b[1m\u001b[36mBuilding obj/logger_mod.o\u001b[m\n",
      "h5fc  -std=f2008 -c -o obj/logger_mod.o src/submodules/flogging/src/logging.f90 \n",
      "\u001b[1m\u001b[36mBuilding obj/logging.o\u001b[m\n",
      "h5fc  -J./src -I./src/submodules/bin/jsonfortran-gnu-8.2.5/lib -Wall -Wextra -Wconversion-extra -std=f2008 -g -fall-intrinsics -c -o obj/logging.o src/logging.f90 \n",
      "\u001b[1m\u001b[36mBuilding obj/globals.o\u001b[m\n",
      "h5fc  -J./src -I./src/submodules/bin/jsonfortran-gnu-8.2.5/lib -Wall -Wextra -Wconversion-extra -std=f2008 -g -fall-intrinsics -c -o obj/globals.o src/globals.f90 \n",
      "\u001b[1m\u001b[36mBuilding obj/command-line.o\u001b[m\n",
      "h5fc  -J./src -I./src/submodules/bin/jsonfortran-gnu-8.2.5/lib -Wall -Wextra -Wconversion-extra -std=f2008 -g -fall-intrinsics -c -o obj/command-line.o src/command-line.f90 \n",
      "\u001b[1m\u001b[36mBuilding obj/json-parser.o\u001b[m\n",
      "h5fc  -J./src -I./src/submodules/bin/jsonfortran-gnu-8.2.5/lib -Wall -Wextra -Wconversion-extra -std=f2008 -g -fall-intrinsics -c -o obj/json-parser.o src/json-parser.f90 \n",
      "\u001b[1m\u001b[36mBuilding obj/solver-utils.o\u001b[m\n",
      "h5fc  -J./src -I./src/submodules/bin/jsonfortran-gnu-8.2.5/lib -Wall -Wextra -Wconversion-extra -std=f2008 -g -fall-intrinsics -c -o obj/solver-utils.o src/solver-utils.f90 \n",
      "\u001b[1m\u001b[36mBuilding obj/hdf5-io.o\u001b[m\n",
      "h5fc  -J./src -I./src/submodules/bin/jsonfortran-gnu-8.2.5/lib -Wall -Wextra -Wconversion-extra -std=f2008 -g -fall-intrinsics -c -o obj/hdf5-io.o src/hdf5-io.f90 \n",
      "\u001b[1m\u001b[36mBuilding obj/fd-solvers.o\u001b[m\n",
      "h5fc  -J./src -I./src/submodules/bin/jsonfortran-gnu-8.2.5/lib -Wall -Wextra -Wconversion-extra -std=f2008 -g -fall-intrinsics -c -o obj/fd-solvers.o src/fd-solvers.f90 \n",
      "\u001b[1m\u001b[36mBuilding obj/solvers.o\u001b[m\n",
      "h5fc  -J./src -I./src/submodules/bin/jsonfortran-gnu-8.2.5/lib -Wall -Wextra -Wconversion-extra -std=f2008 -g -fall-intrinsics -c -o obj/solvers.o src/solvers.f90 \n",
      "\u001b[1m\u001b[36mBuilding obj/setup.o\u001b[m\n",
      "h5fc  -J./src -I./src/submodules/bin/jsonfortran-gnu-8.2.5/lib -Wall -Wextra -Wconversion-extra -std=f2008 -g -fall-intrinsics -c -o obj/setup.o src/setup.f90 \n",
      "\u001b[1m\u001b[36mBuilding obj/main.o\u001b[m\n",
      "h5fc  -J./src -I./src/submodules/bin/jsonfortran-gnu-8.2.5/lib -Wall -Wextra -Wconversion-extra -std=f2008 -g -fall-intrinsics -c -o obj/main.o src/main.f90 \n",
      "\u001b[1m\u001b[32mLinking\u001b[m\n",
      "./obj/face.o ./obj/logger_mod.o ./obj/logging.o ./obj/solvers.o ./obj/globals.o ./obj/main.o ./obj/fd-solvers.o ./obj/setup.o ./obj/solver-utils.o ./obj/command-line.o ./obj/json-parser.o ./obj/hdf5-io.o\n",
      "h5fc  -I./src/submodules/bin/jsonfortran-gnu-8.2.5/lib -Wall -Wextra -Wconversion-extra -std=f2008 -g -fall-intrinsics -o chsolver ./obj/face.o ./obj/logger_mod.o  ./obj/logging.o ./obj/solvers.o ./obj/globals.o ./obj/main.o ./obj/fd-solvers.o ./obj/setup.o ./obj/solver-utils.o ./obj/command-line.o ./obj/json-parser.o ./obj/hdf5-io.o -lpthread -lsz -lz -ldl -lm ./src/submodules/bin/jsonfortran-gnu-8.2.5/lib/libjsonfortran.a \n"
     ]
    },
    {
     "data": {
      "text/plain": [
       "0"
      ]
     },
     "execution_count": 44,
     "metadata": {},
     "output_type": "execute_result"
    }
   ],
   "source": [
    "# OPTIONAL: Compile the chsolver executable (if not already build)\n",
    "os.system(\"make clean && make\")"
   ]
  },
  {
   "cell_type": "markdown",
   "metadata": {},
   "source": [
    "### Basic Usage"
   ]
  },
  {
   "cell_type": "code",
   "execution_count": 45,
   "metadata": {},
   "outputs": [
    {
     "name": "stdout",
     "output_type": "stream",
     "text": [
      " CHSolver 1.0\n"
     ]
    }
   ],
   "source": [
    "# Check the version of the program\n",
    "version_command = \"./chsolver --version\"\n",
    "os.system(version_command)\n",
    "\n",
    "# Print help text\n",
    "\n",
    "help_command = \"./chsolver -h\"\n",
    "#os.system(help_command)\n"
   ]
  },
  {
   "cell_type": "code",
   "execution_count": 4,
   "metadata": {},
   "outputs": [
    {
     "name": "stdout",
     "output_type": "stream",
     "text": [
      "./chsolver -j tutorial-data.json -o tutorial-out -r modified\n",
      "[May 24 2022 16:44:27][open_json] \u001b[1m\u001b[32m<info>\u001b[0m\u001b[0m Reading tutorial-data.json\n",
      "[May 24 2022 16:44:27][setup_grid] \u001b[1m\u001b[32m<info>\u001b[0m\u001b[0m Generating Circle grid\n",
      "[May 24 2022 16:44:27][solver_1] \u001b[1m\u001b[32m<info>\u001b[0m\u001b[0m Solving with fd2\n",
      "[May 24 2022 16:44:27][solver_ufds2t2] \u001b[1m\u001b[32m<info>\u001b[0m\u001b[0m Output at t=  0.000                             \n",
      "[May 24 2022 16:44:30][solver_ufds2t2] \u001b[1m\u001b[32m<info>\u001b[0m\u001b[0m Output at t=  0.100                             \n",
      "[May 24 2022 16:44:34][solver_ufds2t2] \u001b[1m\u001b[32m<info>\u001b[0m\u001b[0m Output at t=  0.200                             \n",
      "[May 24 2022 16:44:37][solver_ufds2t2] \u001b[1m\u001b[32m<info>\u001b[0m\u001b[0m Output at t=  0.300                             \n",
      "[May 24 2022 16:44:42][solver_ufds2t2] \u001b[1m\u001b[32m<info>\u001b[0m\u001b[0m Output at t=  0.400                             \n"
     ]
    },
    {
     "data": {
      "text/plain": [
       "0"
      ]
     },
     "execution_count": 4,
     "metadata": {},
     "output_type": "execute_result"
    }
   ],
   "source": [
    "# IO Commands\n",
    "\n",
    "json_file = \"tutorial-data.json\"\n",
    "\n",
    "output_dir = \"tutorial-out\"\n",
    "os.makedirs(output_dir, exist_ok=True)\n",
    "\n",
    "run_name = \"modified\"\n",
    "\n",
    "exe = \"./chsolver\"\n",
    "\n",
    "# -j <file> will change the json file searched for inputs\n",
    "json_file_command = f\" -j {json_file}\"\n",
    "\n",
    "# -o <dir> will change the location output files are saved to\n",
    "output_dir_command = f\" -o {output_dir}\"\n",
    "\n",
    "# -r <name> will change the name of the run parsed in the JSON for inputs \n",
    "run_name_command = f\" -r {run_name}\"\n",
    "\n",
    "\n",
    "# Generate the full command\n",
    "basic_command = exe + json_file_command + output_dir_command + run_name_command\n",
    "\n",
    "print(basic_command)\n",
    "os.system(basic_command)"
   ]
  },
  {
   "cell_type": "code",
   "execution_count": null,
   "metadata": {},
   "outputs": [],
   "source": [
    "# Print the generated files\n",
    "print(sorted(os.listdir(output_dir)))"
   ]
  },
  {
   "cell_type": "markdown",
   "metadata": {},
   "source": [
    "The executable first makes a \"metadata.dat\" file in the output directory, which contains the input parameters used for the run. It also contains a tables linking the checkpoint number with the simulated time the checkpointed data corresponds to.\n",
    "\n",
    "The checkpoint files are binary files using the hdf5 storage scheme. They each contain the concentration grid C, as well as the grid state at the previous timestep, and the time interval used for that timestep (NOTE: timestep is not equivalent to the difference between output times, the solvers internally use an adaptive timestep scheme in order to provide stable and accurate outputs).\n",
    "\n",
    "### Overriding the JSON inputs"
   ]
  },
  {
   "cell_type": "code",
   "execution_count": null,
   "metadata": {},
   "outputs": [
    {
     "name": "stdout",
     "output_type": "stream",
     "text": [
      "./chsolver -j tutorial-data.json -o tutorial-out -r modified -A 2.0 -p1 0.01 -t {0.0:0.1:0.2:0.3}\n",
      "[May 24 2022 14:47:42][open_json] \u001b[1m\u001b[32m<info>\u001b[0m\u001b[0m Reading tutorial-data.json\n",
      "[May 24 2022 14:47:42][setup_grid] \u001b[1m\u001b[32m<info>\u001b[0m\u001b[0m Generating Circle grid\n",
      "[May 24 2022 14:47:42][solver_1] \u001b[1m\u001b[32m<info>\u001b[0m\u001b[0m Solving with fd2\n",
      "[May 24 2022 14:47:42][solver_ufds2t2] \u001b[1m\u001b[32m<info>\u001b[0m\u001b[0m Output at t=  0.000                             \n",
      "[May 24 2022 14:47:44][solver_ufds2t2] \u001b[1m\u001b[32m<info>\u001b[0m\u001b[0m Output at t=  0.085                             \n",
      "[May 24 2022 14:47:45][solver_ufds2t2] \u001b[1m\u001b[32m<info>\u001b[0m\u001b[0m Output at t=  0.170                             \n",
      "[May 24 2022 14:47:47][solver_ufds2t2] \u001b[1m\u001b[32m<info>\u001b[0m\u001b[0m Output at t=  0.256                             \n"
     ]
    },
    {
     "data": {
      "text/plain": [
       "0"
      ]
     },
     "execution_count": 33,
     "metadata": {},
     "output_type": "execute_result"
    }
   ],
   "source": [
    "# New values for parameters can be specified from the command line - if all of L, A, M, K, p0, p1, grid_init, grid_level and T \n",
    "# are defined from the command line, the json parsing is not done.\n",
    "\n",
    "A_command = \" -A 2.0\"\n",
    "\n",
    "p1_command = \" -p1 0.01\"\n",
    "\n",
    "# Arrays in the command line have to be colon separated\n",
    "T_command = \" -t {0.0:0.1:0.2:0.3}\"\n",
    "\n",
    "full_command = basic_command + A_command + p1_command + T_command\n",
    "\n",
    "print(full_command)\n",
    "os.system(full_command)"
   ]
  },
  {
   "cell_type": "markdown",
   "metadata": {},
   "source": [
    "### Advanced commands: Verbosity, easier time array specification"
   ]
  },
  {
   "cell_type": "code",
   "execution_count": null,
   "metadata": {},
   "outputs": [
    {
     "name": "stdout",
     "output_type": "stream",
     "text": [
      "./chsolver -j tutorial-data.json -o tutorial-out -r modified -q --log_tspace={0.0:0.2:5}\n"
     ]
    },
    {
     "data": {
      "text/plain": [
       "0"
      ]
     },
     "execution_count": 34,
     "metadata": {},
     "output_type": "execute_result"
    }
   ],
   "source": [
    "# Verbosity can be controlled via the -v (verbose) and -q (quiet) commands\n",
    "\n",
    "#verbosity_command = \" -qq\"  # Very quiet (ignores warning messages)\n",
    "verbosity_command = \" -q\" # Quiet (ignores info messages)\n",
    "#verbosity_command = \" \" # No verbosity change\n",
    "#verbosity_command = \" -v\" # Verbose (prints trivia messages)\n",
    "#verbosity_command = \" -vv\" # Very verbose (prints debug messages)\n",
    "\n",
    "#timespace_command = \" --lin_tspace={0.0:0.2:5}\" # Specify a linspace T from 0.0 to 0.2 with 5 outputs\n",
    "timespace_command = \" --log_tspace={0.0:0.2:5}\" # Specify a logspace T from 0.0 to 0.2 with 5 outputs\n",
    "\n",
    "full_command = basic_command + verbosity_command + timespace_command\n",
    "\n",
    "print(full_command)\n",
    "os.system(full_command)"
   ]
  },
  {
   "cell_type": "markdown",
   "metadata": {},
   "source": [
    "### Restarting from a checkpoint\n",
    "The metadata and checkpoint files contain enough information about the state at any output to allow the calculation to be resumed from any of these points, in the event of a fatal crash or where the user desired to simulate the system a little further.\n",
    "\n",
    "In the case of a checkpoint, the input time array"
   ]
  },
  {
   "cell_type": "code",
   "execution_count": 5,
   "metadata": {},
   "outputs": [
    {
     "name": "stdout",
     "output_type": "stream",
     "text": [
      "[May 24 2022 16:44:42][open_json] \u001b[1m\u001b[32m<info>\u001b[0m\u001b[0m Reading tutorial-data.json\n",
      "[May 24 2022 16:44:42][setup_grid] \u001b[1m\u001b[32m<info>\u001b[0m\u001b[0m Generating Circle grid\n",
      "[May 24 2022 16:44:42][solver_1] \u001b[1m\u001b[32m<info>\u001b[0m\u001b[0m Solving with fd2\n",
      "[May 24 2022 16:44:42][solver_ufds2t2] \u001b[1m\u001b[32m<info>\u001b[0m\u001b[0m Output at t=  0.000                             \n",
      "[May 24 2022 16:44:43][solver_ufds2t2] \u001b[1m\u001b[32m<info>\u001b[0m\u001b[0m Output at t=  0.050                             \n",
      "[May 24 2022 16:44:45][solver_ufds2t2] \u001b[1m\u001b[32m<info>\u001b[0m\u001b[0m Output at t=  0.100                             \n",
      "[May 24 2022 16:44:47][solver_ufds2t2] \u001b[1m\u001b[32m<info>\u001b[0m\u001b[0m Output at t=  0.150                             \n",
      "[May 24 2022 16:44:49][solver_ufds2t2] \u001b[1m\u001b[32m<info>\u001b[0m\u001b[0m Output at t=  0.200                             \n",
      "./chsolver -j tutorial-data.json -o tutorial-out -r modified --restart_num=-1 --lin_tspace{0.0:0.2:10}\n",
      "[May 24 2022 16:44:49][open_json] \u001b[1m\u001b[32m<info>\u001b[0m\u001b[0m Reading tutorial-data.json\n",
      "[May 24 2022 16:44:49][solver_2] \u001b[1m\u001b[32m<info>\u001b[0m\u001b[0m Solving with fd2\n",
      "[May 24 2022 16:44:56][solver_ufds2t2] \u001b[1m\u001b[32m<info>\u001b[0m\u001b[0m Output at t=  0.300                             \n",
      "[May 24 2022 16:44:59][solver_ufds2t2] \u001b[1m\u001b[32m<info>\u001b[0m\u001b[0m Output at t=  0.400                             \n"
     ]
    },
    {
     "data": {
      "text/plain": [
       "0"
      ]
     },
     "execution_count": 5,
     "metadata": {},
     "output_type": "execute_result"
    }
   ],
   "source": [
    "initial_command = basic_command + \" --lin_tspace={0.0:0.1:5}\"\n",
    "\n",
    "os.system(initial_command)\n",
    "\n",
    "\n",
    "#cont_from_time = \"--restart_time=0.1\" # Can specify a specific time to restart from. Will restart from a checkpoint with a time <= this time\n",
    "\n",
    "cont_from_checkpoint = \" --restart_num=-1\" # Restart from a specific checkpoint number, with -1 meaning restart from the last checkpoint\n",
    "continuation_times = \" --lin_tspace{0.0:0.2:10}\" # The times from 0.0 to 0.1 should be masked out of this array, as these have already been evaluated\n",
    "\n",
    "restart_command = basic_command + cont_from_checkpoint + continuation_times\n",
    "\n",
    "print(restart_command)\n",
    "os.system(restart_command)"
   ]
  },
  {
   "cell_type": "markdown",
   "metadata": {},
   "source": [
    "### Python executable wrapper\n",
    "For convenience, a simple interface to the executable is provided as a method of the CHData class. It internally calls the executable using the L, A, M, ... attributes and automatically reads the produced output files."
   ]
  },
  {
   "cell_type": "code",
   "execution_count": 6,
   "metadata": {},
   "outputs": [
    {
     "name": "stdout",
     "output_type": "stream",
     "text": [
      "[0.         0.02222222 0.04444444 0.06666667 0.08888889 0.11111111\n",
      " 0.13333333 0.15555556 0.17777778 0.2       ]\n",
      "[May 24 2022 16:51:36][get_input_commands] \u001b[1m\u001b[34m<trivia>\u001b[0m\u001b[0m Setting L  to    1.0000000000000000\n",
      "[May 24 2022 16:51:36][get_input_commands] \u001b[1m\u001b[34m<trivia>\u001b[0m\u001b[0m Setting A  to    1.0000000000000000\n",
      "[May 24 2022 16:51:36][get_input_commands] \u001b[1m\u001b[34m<trivia>\u001b[0m\u001b[0m Setting M  to   0.25000000000000000\n",
      "[May 24 2022 16:51:36][get_input_commands] \u001b[1m\u001b[34m<trivia>\u001b[0m\u001b[0m Setting K  to    4.0000000000000002E-004\n",
      "[May 24 2022 16:51:36][get_input_commands] \u001b[1m\u001b[34m<trivia>\u001b[0m\u001b[0m Setting p0 to   -1.0000000000000000\n",
      "[May 24 2022 16:51:36][get_input_commands] \u001b[1m\u001b[34m<trivia>\u001b[0m\u001b[0m Setting p1 to    1.0000000000000000\n",
      "[May 24 2022 16:51:36][get_input_commands] \u001b[1m\u001b[34m<trivia>\u001b[0m\u001b[0m Setting level to            3\n",
      "[May 24 2022 16:51:36][get_input_commands] \u001b[1m\u001b[34m<trivia>\u001b[0m\u001b[0m Setting grid initialisation character to r\n",
      "[May 24 2022 16:51:36][get_input_commands] \u001b[1m\u001b[34m<trivia>\u001b[0m\u001b[0m Setting output timesteps to {   0.0000000000000000        2.2222222222222223E-002   4.4444444444444446E-002   6.6666666666666666E-002   8.8888888888888892E-002  0.11111111110000001}\n",
      "[May 24 2022 16:51:36][setup_grid] \u001b[1m\u001b[32m<info>\u001b[0m\u001b[0m Generating Random grid\n",
      "[May 24 2022 16:51:36][solver_1] \u001b[1m\u001b[32m<info>\u001b[0m\u001b[0m Solving with fd2\n",
      "[May 24 2022 16:51:36][solver_ufds2t2] \u001b[1m\u001b[32m<info>\u001b[0m\u001b[0m Output at t=  0.000                             \n",
      "[May 24 2022 16:51:36][solver_ufds2t2] \u001b[1m\u001b[32m<info>\u001b[0m\u001b[0m Output at t=  0.022                             \n",
      "[May 24 2022 16:51:36][solver_ufds2t2] \u001b[1m\u001b[32m<info>\u001b[0m\u001b[0m Output at t=  0.044                             \n",
      "[May 24 2022 16:51:36][solver_ufds2t2] \u001b[1m\u001b[32m<info>\u001b[0m\u001b[0m Output at t=  0.067                             \n",
      "[May 24 2022 16:51:36][solver_ufds2t2] \u001b[1m\u001b[32m<info>\u001b[0m\u001b[0m Output at t=  0.089                             \n",
      "[May 24 2022 16:51:36][solver_ufds2t2] \u001b[1m\u001b[32m<info>\u001b[0m\u001b[0m Output at t=  0.111                             \n",
      "[[-0.02404978  0.05326671 -0.13659414 -0.03703305 -0.01879072 -0.15133514\n",
      "   0.02198465  0.17228818]\n",
      " [ 0.14905934 -0.17395579 -0.02243787  0.1823986  -0.19322791 -0.08722478\n",
      "   0.02221328 -0.13050631]\n",
      " [-0.04055285  0.15229003 -0.01934404  0.04707529 -0.03007132 -0.10200051\n",
      "   0.14066425  0.06770385]\n",
      " [ 0.11825932 -0.12751485  0.15705937 -0.12011022 -0.13193663 -0.07193193\n",
      "   0.06320366 -0.0104281 ]\n",
      " [-0.01531643 -0.02899813  0.02096101 -0.04431069 -0.14156074 -0.13615966\n",
      "   0.07985374 -0.0700795 ]\n",
      " [ 0.04298102  0.07357531 -0.05178015  0.08609715 -0.09464104 -0.04558559\n",
      "   0.05816099  0.12393079]\n",
      " [ 0.1391504   0.01172327  0.18714365  0.12217057  0.00474969 -0.05026602\n",
      "  -0.09871888  0.10097809]\n",
      " [ 0.15073878  0.04984432  0.09193626  0.09505567  0.17439237  0.17137674\n",
      "  -0.08371128 -0.08752842]]\n"
     ]
    }
   ],
   "source": [
    "dat = CHData()\n",
    "\n",
    "dat.grid_level = 3\n",
    "\n",
    "# Can specify any additional command line args using a cmd_args string\n",
    "dat.solve(out_dir=\"out\", cmd_args=\"-v\")\n",
    "\n",
    "print(dat.C[0, :, :]) # Print first timestep"
   ]
  },
  {
   "cell_type": "markdown",
   "metadata": {},
   "source": [
    "# Output Files"
   ]
  },
  {
   "cell_type": "markdown",
   "metadata": {},
   "source": [
    "## Working with output files from Python\n",
    "\n",
    "The CHData class also provides functionality for working with the output files produced by the $\\texttt{chsolver}$ program."
   ]
  },
  {
   "cell_type": "code",
   "execution_count": null,
   "metadata": {},
   "outputs": [],
   "source": [
    "dat = CHData(fname=\"tutorial-data.json\")"
   ]
  },
  {
   "cell_type": "markdown",
   "metadata": {},
   "source": [
    "The user can generate an animation of the concentration with time (gif) and a plot of the free energy versus time (png) by calling python3 src/visualisation.py. These will be saved to the main directory.\n",
    "Should the user wish to change the animation's fps (default 10) or specify the time interval for either of the (default start to finish), for either of the visuals, then the python file can be opened and the arguments to the plot_conc_evol and plot_free_energy functions at the bottom of the file can be changed."
   ]
  }
 ],
 "metadata": {
  "interpreter": {
   "hash": "0290695e6709c8d8df77330fbd5570aa36feb45b4cab183f1396904bfd1d786b"
  },
  "kernelspec": {
   "display_name": "Python 3.8.10 ('chenv': venv)",
   "language": "python",
   "name": "python3"
  },
  "language_info": {
   "codemirror_mode": {
    "name": "ipython",
    "version": 3
   },
   "file_extension": ".py",
   "mimetype": "text/x-python",
   "name": "python",
   "nbconvert_exporter": "python",
   "pygments_lexer": "ipython3",
   "version": "3.8.10"
  },
  "orig_nbformat": 4
 },
 "nbformat": 4,
 "nbformat_minor": 2
}
