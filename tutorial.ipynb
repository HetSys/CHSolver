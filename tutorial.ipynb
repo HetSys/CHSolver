{
 "cells": [
  {
   "cell_type": "markdown",
   "metadata": {},
   "source": [
    "# CHSolver User Tutorial\n",
    "\n",
    "## Requirements\n",
    "We assume the following software will be already available prior to installation:\n",
    "- GCC/10.2.0\n",
    "- CMake/3.20.1\n",
    "- OpenMPI/4.0.5\n",
    "- HDF5/1.10.7\n",
    "- Python/3.8.6\n",
    "- FFTW/3.3.8\n",
    "\n",
    "## Installation\n",
    "The repository can be git cloned via the command  $\\texttt{ git clone --recursive git@github.com:HetSys/CHSolver.git}$\n",
    "\n",
    "The code requires some external dependancies, which are linked to the repository through the use of git submodules. The bash script $\\texttt{build\\_deps}$ is provided in order to build and install these locally, within the repository.\n",
    "\n",
    "Make is used as the main driver for the executable compilation and support. Supported commands are as follows:\n",
    "- make: Compile and link the chsolver executable\n",
    "- make clean: Clean the executables, .o and .mod files\n",
    "- make logpurge: Clean all .log files from the ./logs dir\n",
    "- make docs: Generate developer documentation (requires a doxygen executable on path, tested with Doxygen/1.8.17)\n",
    "- make tests: Compile and link a unit tests executable (requires pFUnit to have been installed within the repository)\n",
    "\n",
    "## Handling JSON input data\n",
    "JSON files are used by both the Python API and the $\\texttt{chsolver}$ executable in order to more easily handle input parameters to the executable. Though it is possible to use the the executable without requiring a JSON file, it is strongly recommended.\n",
    "\n",
    "The JSON datastructure operates via nesting of key : value pairs. At the root level, the JSON file is subdivided into \"runs\", where each run contains the full set of parameters required for proper execution of the program. A simple example file is shown below.\n",
    "\n",
    "```\n",
    "{\n",
    "  \"default\": {\n",
    "    \"L\": 1.0,\n",
    "    \"A\": 1.0,\n",
    "    \"M\": 0.25,\n",
    "    \"K\": 0.0004,\n",
    "    \"p0\": -1.0,\n",
    "    \"p1\": 1.0,\n",
    "    \"grid_level\": 7,\n",
    "    \"grid_type\": \"r\",\n",
    "    \"T\": [\n",
    "      0.0,\n",
    "      0.05,\n",
    "      0.1\n",
    "    ]\n",
    "  }\n",
    "}\n",
    "```\n",
    "\n",
    "The run, called \"default\" contains a nested set of parameters (\"L\", \"A\", \"M\", ...) which would all be searched by name during execution of the program. To add alternative runs directly to the file, it is recommended to first copy and paste the default run, rename it, and thn modify the values associated with the parameters.\n",
    "\n",
    "### Handling the JSON file"
   ]
  },
  {
   "cell_type": "code",
   "execution_count": null,
   "metadata": {},
   "outputs": [],
   "source": []
  },
  {
   "cell_type": "markdown",
   "metadata": {},
   "source": [
    "## Using the $\\texttt{chsolver}$ executable"
   ]
  },
  {
   "cell_type": "markdown",
   "metadata": {},
   "source": []
  }
 ],
 "metadata": {
  "language_info": {
   "name": "python"
  },
  "orig_nbformat": 4
 },
 "nbformat": 4,
 "nbformat_minor": 2
}
